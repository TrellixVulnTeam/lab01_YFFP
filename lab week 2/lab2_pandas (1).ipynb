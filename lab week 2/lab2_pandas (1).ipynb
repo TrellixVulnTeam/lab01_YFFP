{
 "cells": [
  {
   "cell_type": "markdown",
   "metadata": {
    "collapsed": true
   },
   "source": [
    "## S14a: Lab 2 - Pandas\n",
    "\n",
    "Pandas plays nicely with Numpy, making a nice transition from previous work with n-shaped arrays. In this notebook we will be two structures for combining data: Series and DataFrames.\n",
    "\n",
    "In this notebook, we are offering just a glimpse into Pandas before moving on to application in an example. It's worth learning more outside of lab: if you've only got 10min, go [here](https://pandas.pydata.org/docs/getting_started/10min.html); otherwise check out the learning [options](https://pandas.pydata.org/docs/getting_started/intro_tutorials/index.html). Much of this can be learned piecemeal through practical experience cleaning and pre-processing data."
   ]
  },
  {
   "cell_type": "markdown",
   "metadata": {},
   "source": [
    "### Building a data structure: starting with [Series](https://pandas.pydata.org/docs/reference/api/pandas.Series.html?highlight=series#pandas.Series)"
   ]
  },
  {
   "cell_type": "code",
   "execution_count": 5,
   "metadata": {
    "collapsed": true
   },
   "outputs": [],
   "source": [
    "# First import libraries\n",
    "\n",
    "import numpy as np\n",
    "import pandas as pd"
   ]
  },
  {
   "cell_type": "code",
   "execution_count": 38,
   "metadata": {},
   "outputs": [
    {
     "name": "stdout",
     "output_type": "stream",
     "text": [
      "Auto increment:\n",
      "0    10\n",
      "1    10\n",
      "2     1\n",
      "3     7\n",
      "4    10\n",
      "dtype: int64\n",
      "\n",
      "Manual increment:\n",
      "rad    10\n",
      "bad    10\n",
      "sad     1\n",
      "mad     7\n",
      "fad    10\n",
      "dtype: int64\n"
     ]
    }
   ],
   "source": [
    "# Scenario 1: Rustle up some simple key-value mock data\n",
    "keys = ['rad', 'bad', 'sad', 'mad', 'fad']\n",
    "values = np.random.randint(1, 11, len(keys))\n",
    "\n",
    "# Connect with pandas Series(data=None, index=None, dtype=None, name=None, copy=False, fastpath=False)\n",
    "data_auto_i = pd.Series(values)\n",
    "print('Auto increment:')\n",
    "print(data_auto_i)\n",
    "data_manu_i = pd.Series(values, keys)\n",
    "print('\\nManual increment:')\n",
    "print(data_manu_i)"
   ]
  },
  {
   "cell_type": "code",
   "execution_count": 39,
   "metadata": {},
   "outputs": [
    {
     "name": "stdout",
     "output_type": "stream",
     "text": [
      "1\n",
      "1\n"
     ]
    }
   ],
   "source": [
    "# Find particular value by index/key\n",
    "\n",
    "print(data_auto_i[2])\n",
    "print(data_manu_i['sad'])"
   ]
  },
  {
   "cell_type": "code",
   "execution_count": 46,
   "metadata": {
    "pycharm": {
     "name": "#%%\n"
    }
   },
   "outputs": [
    {
     "data": {
      "text/plain": [
       "0    {'name': 'Zona', 'color': 'red', 'intensity': ...\n",
       "1    {'name': 'Aleksander', 'color': 'green', 'inte...\n",
       "2    {'name': 'Fred', 'color': 'blue', 'intensity':...\n",
       "3    {'name': 'Brian', 'color': 'cyan', 'intensity'...\n",
       "4    {'name': 'Jared', 'color': 'magenta', 'intensi...\n",
       "dtype: object"
      ]
     },
     "execution_count": 46,
     "metadata": {},
     "output_type": "execute_result"
    }
   ],
   "source": [
    "# Scenario 2: Rustle up data using dictionaries\n",
    "\n",
    "arr_dicts = [\n",
    "    {'name': 'Zona', 'color': 'red', 'intensity': np.random.randint(0, 256)},\n",
    "    {'name': 'Aleksander', 'color': 'green', 'intensity': np.random.randint(0, 256)},\n",
    "    {'name': 'Fred', 'color': 'blue', 'intensity': np.random.randint(0, 256)},\n",
    "    {'name': 'Brian', 'color': 'cyan', 'intensity': np.random.randint(0, 256)},\n",
    "    {'name': 'Jared', 'color': 'magenta', 'intensity:': np.random.randint(0, 256)}\n",
    "]\n",
    "teamdata1 = pd.Series(arr_dicts)\n",
    "teamdata1"
   ]
  },
  {
   "cell_type": "markdown",
   "metadata": {},
   "source": []
  },
  {
   "cell_type": "markdown",
   "metadata": {},
   "source": [
    "### Excel-esque with [Dataframes](https://pandas.pydata.org/docs/reference/api/pandas.DataFrame.html?highlight=dataframe#pandas.DataFrame)"
   ]
  },
  {
   "cell_type": "code",
   "execution_count": 70,
   "metadata": {},
   "outputs": [
    {
     "data": {
      "text/html": [
       "<div>\n",
       "<style scoped>\n",
       "    .dataframe tbody tr th:only-of-type {\n",
       "        vertical-align: middle;\n",
       "    }\n",
       "\n",
       "    .dataframe tbody tr th {\n",
       "        vertical-align: top;\n",
       "    }\n",
       "\n",
       "    .dataframe thead th {\n",
       "        text-align: right;\n",
       "    }\n",
       "</style>\n",
       "<table border=\"1\" class=\"dataframe\">\n",
       "  <thead>\n",
       "    <tr style=\"text-align: right;\">\n",
       "      <th></th>\n",
       "      <th>a</th>\n",
       "      <th>b</th>\n",
       "      <th>c</th>\n",
       "      <th>d</th>\n",
       "      <th>e</th>\n",
       "    </tr>\n",
       "  </thead>\n",
       "  <tbody>\n",
       "    <tr>\n",
       "      <th>1</th>\n",
       "      <td>85</td>\n",
       "      <td>1</td>\n",
       "      <td>2</td>\n",
       "      <td>72</td>\n",
       "      <td>88</td>\n",
       "    </tr>\n",
       "    <tr>\n",
       "      <th>2</th>\n",
       "      <td>59</td>\n",
       "      <td>89</td>\n",
       "      <td>17</td>\n",
       "      <td>66</td>\n",
       "      <td>2</td>\n",
       "    </tr>\n",
       "    <tr>\n",
       "      <th>3</th>\n",
       "      <td>37</td>\n",
       "      <td>99</td>\n",
       "      <td>68</td>\n",
       "      <td>92</td>\n",
       "      <td>38</td>\n",
       "    </tr>\n",
       "  </tbody>\n",
       "</table>\n",
       "</div>"
      ],
      "text/plain": [
       "    a   b   c   d   e\n",
       "1  85   1   2  72  88\n",
       "2  59  89  17  66   2\n",
       "3  37  99  68  92  38"
      ]
     },
     "execution_count": 70,
     "metadata": {},
     "output_type": "execute_result"
    }
   ],
   "source": [
    "# Some extractions\n",
    "rows = np.array(['1', '2', '3'])\n",
    "cols = np.array(['a', 'b', 'c', 'd', 'e'])\n",
    "\n",
    "# To random Dataframe\n",
    "dataframe = pd.DataFrame(np.random.randint(1, 101, (len(rows), len(cols))), rows, cols)\n",
    "dataframe"
   ]
  },
  {
   "cell_type": "code",
   "execution_count": 90,
   "metadata": {},
   "outputs": [
    {
     "name": "stdout",
     "output_type": "stream",
     "text": [
      "COL:\n",
      "1     2\n",
      "2    17\n",
      "3    68\n",
      "Name: c, dtype: int64\n",
      "\n",
      "POS:\n",
      "17\n"
     ]
    }
   ],
   "source": [
    "# Grab a col\n",
    "\n",
    "print('COL:')\n",
    "print(dataframe['c'])\n",
    "\n",
    "# Grab a value\n",
    "\n",
    "print('\\nPOS:')\n",
    "print(dataframe['c']['2'])"
   ]
  },
  {
   "cell_type": "code",
   "execution_count": null,
   "metadata": {
    "collapsed": true
   },
   "outputs": [],
   "source": [
    "# !!!YOUR TURN!!!\n",
    "\n",
    "# Slicing! Grab the first 2 rows and first 2 cols from dataframe\n",
    "\n"
   ]
  },
  {
   "cell_type": "markdown",
   "metadata": {},
   "source": [
    "### Change gears\n",
    "\n",
    "There is alot to learn about pandas - but you will learn more by example in the next notebook."
   ]
  }
 ],
 "metadata": {
  "kernelspec": {
   "display_name": "Python 3",
   "language": "python",
   "name": "python3"
  },
  "language_info": {
   "codemirror_mode": {
    "name": "ipython",
    "version": 3
   },
   "file_extension": ".py",
   "mimetype": "text/x-python",
   "name": "python",
   "nbconvert_exporter": "python",
   "pygments_lexer": "ipython3",
   "version": "3.6.8"
  }
 },
 "nbformat": 4,
 "nbformat_minor": 1
}
